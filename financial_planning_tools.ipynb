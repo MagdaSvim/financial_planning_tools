{
 "cells": [
  {
   "cell_type": "markdown",
   "metadata": {},
   "source": [
    "# Financial Planning with APIs and Simulations\n",
    "\n",
    "This project entails building a tool to help credit union members evaluate their financial health. In the first part, we will create a financial planner for emergencies and the second part, we will create a financial planner for retirement."
   ]
  },
  {
   "cell_type": "code",
   "execution_count": 102,
   "metadata": {},
   "outputs": [],
   "source": [
    "# Import the required libraries and dependencies\n",
    "import os\n",
    "import requests\n",
    "import json\n",
    "import pandas as pd\n",
    "from dotenv import load_dotenv\n",
    "import alpaca_trade_api as tradeapi\n",
    "from MCForecastTools import MCSimulation\n",
    "\n",
    "%matplotlib inline"
   ]
  },
  {
   "cell_type": "code",
   "execution_count": 103,
   "metadata": {},
   "outputs": [
    {
     "data": {
      "text/plain": [
       "True"
      ]
     },
     "execution_count": 103,
     "metadata": {},
     "output_type": "execute_result"
    }
   ],
   "source": [
    "# Load the environment variables from the .env file\n",
    "#by calling the load_dotenv function\n",
    "load_dotenv()"
   ]
  },
  {
   "cell_type": "markdown",
   "metadata": {},
   "source": [
    "## Part 1: Creating a Financial Planner for Emergencies"
   ]
  },
  {
   "cell_type": "markdown",
   "metadata": {},
   "source": [
    "### Evaluating the Cryptocurrency Wallet by Using the Requests Library"
   ]
  },
  {
   "cell_type": "code",
   "execution_count": 13,
   "metadata": {},
   "outputs": [],
   "source": [
    "# The current number of coins for each cryptocurrency asset held in the portfolio.\n",
    "btc_coins = 1.2\n",
    "eth_coins = 5.3"
   ]
  },
  {
   "cell_type": "markdown",
   "metadata": {},
   "source": [
    "#### Step 1: Creating a variable named `monthly_income`, and setting its value to `12000`."
   ]
  },
  {
   "cell_type": "code",
   "execution_count": 104,
   "metadata": {},
   "outputs": [],
   "source": [
    "monthly_income = 12000"
   ]
  },
  {
   "cell_type": "markdown",
   "metadata": {},
   "source": [
    "#### Reviewing the endpoint URLs for the API calls to Free Crypto API in order to get the current pricing information for both BTC and ETH."
   ]
  },
  {
   "cell_type": "code",
   "execution_count": 105,
   "metadata": {},
   "outputs": [],
   "source": [
    "btc_url = \"https://api.alternative.me/v2/ticker/Bitcoin/?convert=USD\"\n",
    "eth_url = \"https://api.alternative.me/v2/ticker/Ethereum/?convert=USD\""
   ]
  },
  {
   "cell_type": "markdown",
   "metadata": {},
   "source": [
    "#### Step 2. Using the Requests library to get the current price (in US dollars) of Bitcoin (BTC) and Ethereum (ETH) by using the API endpoints that the starter code supplied."
   ]
  },
  {
   "cell_type": "code",
   "execution_count": 106,
   "metadata": {},
   "outputs": [
    {
     "name": "stdout",
     "output_type": "stream",
     "text": [
      "{\n",
      "  \"data\": {\n",
      "    \"1\": {\n",
      "      \"circulating_supply\": 18948431,\n",
      "      \"id\": 1,\n",
      "      \"last_updated\": 1643957304,\n",
      "      \"max_supply\": 21000000,\n",
      "      \"name\": \"Bitcoin\",\n",
      "      \"quotes\": {\n",
      "        \"USD\": {\n",
      "          \"market_cap\": 720820170208,\n",
      "          \"percent_change_1h\": 0.941215058397499,\n",
      "          \"percent_change_24h\": 2.77886501653657,\n",
      "          \"percent_change_7d\": 1.97623701203064,\n",
      "          \"percentage_change_1h\": 0.941215058397499,\n",
      "          \"percentage_change_24h\": 2.77886501653657,\n",
      "          \"percentage_change_7d\": 1.97623701203064,\n",
      "          \"price\": 38014.0,\n",
      "          \"volume_24h\": 16923957318\n",
      "        }\n",
      "      },\n",
      "      \"rank\": 1,\n",
      "      \"symbol\": \"BTC\",\n",
      "      \"total_supply\": 18948431,\n",
      "      \"website_slug\": \"bitcoin\"\n",
      "    }\n",
      "  },\n",
      "  \"metadata\": {\n",
      "    \"error\": null,\n",
      "    \"num_cryptocurrencies\": 3105,\n",
      "    \"timestamp\": 1643957304\n",
      "  }\n",
      "}\n"
     ]
    }
   ],
   "source": [
    "# Making an API call to access the current price of BTC by using the Python requests library\n",
    "btc_response = requests.get(btc_url).json()\n",
    "\n",
    "# Reviewing the response data from the API call\n",
    "print(json.dumps(btc_response, indent=2, sort_keys=True))"
   ]
  },
  {
   "cell_type": "code",
   "execution_count": 107,
   "metadata": {},
   "outputs": [
    {
     "name": "stdout",
     "output_type": "stream",
     "text": [
      "{\n",
      "  \"data\": {\n",
      "    \"1027\": {\n",
      "      \"circulating_supply\": 119437656,\n",
      "      \"id\": 1027,\n",
      "      \"last_updated\": 1643957287,\n",
      "      \"max_supply\": 0,\n",
      "      \"name\": \"Ethereum\",\n",
      "      \"quotes\": {\n",
      "        \"USD\": {\n",
      "          \"market_cap\": 334335731489,\n",
      "          \"percent_change_1h\": 1.03841378126269,\n",
      "          \"percent_change_24h\": 5.38542057388147,\n",
      "          \"percent_change_7d\": 16.0559242746762,\n",
      "          \"percentage_change_1h\": 1.03841378126269,\n",
      "          \"percentage_change_24h\": 5.38542057388147,\n",
      "          \"percentage_change_7d\": 16.0559242746762,\n",
      "          \"price\": 2799.11,\n",
      "          \"volume_24h\": 13945082432\n",
      "        }\n",
      "      },\n",
      "      \"rank\": 2,\n",
      "      \"symbol\": \"ETH\",\n",
      "      \"total_supply\": 119437656,\n",
      "      \"website_slug\": \"ethereum\"\n",
      "    }\n",
      "  },\n",
      "  \"metadata\": {\n",
      "    \"error\": null,\n",
      "    \"num_cryptocurrencies\": 3105,\n",
      "    \"timestamp\": 1643957287\n",
      "  }\n",
      "}\n"
     ]
    }
   ],
   "source": [
    "# Making an API call to access the current price ETH by using the Python requests library\n",
    "eth_response = requests.get(eth_url).json()\n",
    "\n",
    "# Reviewing the response data from the API call\n",
    "print(json.dumps(eth_response, indent=2, sort_keys=True))"
   ]
  },
  {
   "cell_type": "markdown",
   "metadata": {},
   "source": [
    "#### Step 3: Navigating the JSON response object to access the current price of each coin, and storing each in a variable."
   ]
  },
  {
   "cell_type": "code",
   "execution_count": 108,
   "metadata": {},
   "outputs": [
    {
     "name": "stdout",
     "output_type": "stream",
     "text": [
      "The price for Bitcoin is $38014.0\n"
     ]
    }
   ],
   "source": [
    "btc_price = btc_response['data']['1']['quotes']['USD']['price']\n",
    "\n",
    "print(f\"The price for Bitcoin is ${btc_price}\")"
   ]
  },
  {
   "cell_type": "code",
   "execution_count": 109,
   "metadata": {},
   "outputs": [
    {
     "name": "stdout",
     "output_type": "stream",
     "text": [
      "The price for Ethereum is $2799.11\n"
     ]
    }
   ],
   "source": [
    "eth_price = eth_response['data']['1027']['quotes']['USD']['price']\n",
    "\n",
    "print(f\"The price for Ethereum is ${eth_price}\")"
   ]
  },
  {
   "cell_type": "markdown",
   "metadata": {},
   "source": [
    "### Step 4: Calculating the value, in US dollars, of the current amount of each cryptocurrency and of the entire cryptocurrency wallet."
   ]
  },
  {
   "cell_type": "code",
   "execution_count": 47,
   "metadata": {},
   "outputs": [
    {
     "name": "stdout",
     "output_type": "stream",
     "text": [
      "The current value of the 1.2 BTC coins is $ 46227.60\n"
     ]
    }
   ],
   "source": [
    "# Computing the current value of the BTC holding \n",
    "btc_value = btc_price * btc_coins\n",
    "\n",
    "print(f\"The current value of the {btc_coins} BTC coins is ${btc_value: .2f}\")"
   ]
  },
  {
   "cell_type": "code",
   "execution_count": 110,
   "metadata": {},
   "outputs": [
    {
     "name": "stdout",
     "output_type": "stream",
     "text": [
      "The current value of the 5.3 ETH coins is $ 14835.28\n"
     ]
    }
   ],
   "source": [
    "# Computing the current value of the ETH holding \n",
    "eth_value = eth_price * eth_coins\n",
    "\n",
    "print(f\"The current value of the {eth_coins} ETH coins is ${eth_value: .2f}\")"
   ]
  },
  {
   "cell_type": "code",
   "execution_count": 111,
   "metadata": {},
   "outputs": [
    {
     "name": "stdout",
     "output_type": "stream",
     "text": [
      "The current cryptocurrency wallet balance is $ 61062.88\n"
     ]
    }
   ],
   "source": [
    "# Computing the total value of the cryptocurrency wallet\n",
    "total_crypto_wallet = btc_value + eth_value\n",
    "\n",
    "print(f\"The current cryptocurrency wallet balance is ${total_crypto_wallet: .2f}\")"
   ]
  },
  {
   "cell_type": "markdown",
   "metadata": {},
   "source": [
    "### Evaluate the Stock and Bond Holdings by Using the Alpaca SDK"
   ]
  },
  {
   "cell_type": "markdown",
   "metadata": {},
   "source": [
    "#### Reviewing the total number of shares held in both (SPY) and (AGG)."
   ]
  },
  {
   "cell_type": "code",
   "execution_count": 112,
   "metadata": {},
   "outputs": [],
   "source": [
    "# Current amount of shares held in both the stock (SPY) and bond (AGG) portion of the portfolio.\n",
    "spy_shares = 110\n",
    "agg_shares = 200\n"
   ]
  },
  {
   "cell_type": "markdown",
   "metadata": {},
   "source": [
    "#### Step 1: Setting the variables for the Alpaca API and secret keys. Creating the Alpaca `tradeapi.REST` object by using the Alpaca SDK. Including the parameters for the Alpaca API key, the secret key, and the version number in this object."
   ]
  },
  {
   "cell_type": "code",
   "execution_count": 25,
   "metadata": {},
   "outputs": [],
   "source": [
    "# Setting the variables for the Alpaca API and secret keys\n",
    "alpaca_api_key = os.getenv(\"ALPACA_API_KEY\")\n",
    "alpaca_secret_key = os.getenv(\"ALPACA_SECRET_KEY\")\n",
    "\n",
    "# Creating the Alpaca tradeapi.REST object\n",
    "alpaca = tradeapi.REST(alpaca_api_key, alpaca_secret_key, api_version=\"v2\")\n"
   ]
  },
  {
   "cell_type": "markdown",
   "metadata": {},
   "source": [
    "#### Step 2: Setting parameters for the Alpaca API call:"
   ]
  },
  {
   "cell_type": "code",
   "execution_count": 113,
   "metadata": {},
   "outputs": [],
   "source": [
    "# Setting the tickers for both the bond and stock portion of the portfolio\n",
    "tickers = [\"SPY\", \"AGG\"]\n",
    "\n",
    "# Setting timeframe to 1D \n",
    "timeframe = \"1D\"\n",
    "\n",
    "# Setting both the start and end date and formating current date as ISO format\n",
    "start_date = pd.Timestamp(\"2022-01-28\", tz=\"America/New_York\").isoformat()\n",
    "end_date = pd.Timestamp(\"2022-01-28\", tz=\"America/New_york\").isoformat()"
   ]
  },
  {
   "cell_type": "markdown",
   "metadata": {},
   "source": [
    "#### Step 3: Getting the current closing prices for `SPY` and `AGG` by using the Alpaca `get_barset` function. Formatting the response as a Pandas DataFrame."
   ]
  },
  {
   "cell_type": "code",
   "execution_count": 114,
   "metadata": {},
   "outputs": [
    {
     "data": {
      "text/html": [
       "<div>\n",
       "<style scoped>\n",
       "    .dataframe tbody tr th:only-of-type {\n",
       "        vertical-align: middle;\n",
       "    }\n",
       "\n",
       "    .dataframe tbody tr th {\n",
       "        vertical-align: top;\n",
       "    }\n",
       "\n",
       "    .dataframe thead tr th {\n",
       "        text-align: left;\n",
       "    }\n",
       "\n",
       "    .dataframe thead tr:last-of-type th {\n",
       "        text-align: right;\n",
       "    }\n",
       "</style>\n",
       "<table border=\"1\" class=\"dataframe\">\n",
       "  <thead>\n",
       "    <tr>\n",
       "      <th></th>\n",
       "      <th colspan=\"5\" halign=\"left\">AGG</th>\n",
       "      <th colspan=\"5\" halign=\"left\">SPY</th>\n",
       "    </tr>\n",
       "    <tr>\n",
       "      <th></th>\n",
       "      <th>open</th>\n",
       "      <th>high</th>\n",
       "      <th>low</th>\n",
       "      <th>close</th>\n",
       "      <th>volume</th>\n",
       "      <th>open</th>\n",
       "      <th>high</th>\n",
       "      <th>low</th>\n",
       "      <th>close</th>\n",
       "      <th>volume</th>\n",
       "    </tr>\n",
       "    <tr>\n",
       "      <th>time</th>\n",
       "      <th></th>\n",
       "      <th></th>\n",
       "      <th></th>\n",
       "      <th></th>\n",
       "      <th></th>\n",
       "      <th></th>\n",
       "      <th></th>\n",
       "      <th></th>\n",
       "      <th></th>\n",
       "      <th></th>\n",
       "    </tr>\n",
       "  </thead>\n",
       "  <tbody>\n",
       "    <tr>\n",
       "      <th>2022-01-28 00:00:00-05:00</th>\n",
       "      <td>111.46</td>\n",
       "      <td>111.86</td>\n",
       "      <td>111.44</td>\n",
       "      <td>111.81</td>\n",
       "      <td>10400422</td>\n",
       "      <td>432.7</td>\n",
       "      <td>442</td>\n",
       "      <td>427.82</td>\n",
       "      <td>441.92</td>\n",
       "      <td>142062305</td>\n",
       "    </tr>\n",
       "  </tbody>\n",
       "</table>\n",
       "</div>"
      ],
      "text/plain": [
       "                              AGG                                      SPY  \\\n",
       "                             open    high     low   close    volume   open   \n",
       "time                                                                         \n",
       "2022-01-28 00:00:00-05:00  111.46  111.86  111.44  111.81  10400422  432.7   \n",
       "\n",
       "                                                           \n",
       "                          high     low   close     volume  \n",
       "time                                                       \n",
       "2022-01-28 00:00:00-05:00  442  427.82  441.92  142062305  "
      ]
     },
     "execution_count": 114,
     "metadata": {},
     "output_type": "execute_result"
    }
   ],
   "source": [
    "prices_df = alpaca.get_barset(tickers, timeframe, start=start_date, end=end_date).df\n",
    "\n",
    "prices_df.head()"
   ]
  },
  {
   "cell_type": "markdown",
   "metadata": {},
   "source": [
    "#### Step 4: Selecting the `SPY` and `AGG` closing prices, and storing them as variables by navigating the Alpaca response DataFrame."
   ]
  },
  {
   "cell_type": "code",
   "execution_count": 115,
   "metadata": {},
   "outputs": [
    {
     "name": "stdout",
     "output_type": "stream",
     "text": [
      "111.81\n"
     ]
    }
   ],
   "source": [
    "agg_close_price = float(prices_df[\"AGG\"][\"close\"])\n",
    "\n",
    "print(agg_close_price)"
   ]
  },
  {
   "cell_type": "code",
   "execution_count": 116,
   "metadata": {},
   "outputs": [
    {
     "name": "stdout",
     "output_type": "stream",
     "text": [
      "441.92\n"
     ]
    }
   ],
   "source": [
    "spy_close_price = float(prices_df[\"SPY\"][\"close\"])\n",
    "\n",
    "print(spy_close_price)"
   ]
  },
  {
   "cell_type": "markdown",
   "metadata": {},
   "source": [
    "#### Step 5: Calculating the value, in US dollars, of the current amount of shares in each of the stock and bond portions of the portfolio, and printing the results."
   ]
  },
  {
   "cell_type": "code",
   "execution_count": 117,
   "metadata": {},
   "outputs": [
    {
     "name": "stdout",
     "output_type": "stream",
     "text": [
      "The current value of the 200 AGG bonds is $ 22362.00\n"
     ]
    }
   ],
   "source": [
    "agg_value = agg_close_price * agg_shares\n",
    "\n",
    "print(f\"The current value of the {agg_shares} AGG bonds is ${agg_value: .2f}\")"
   ]
  },
  {
   "cell_type": "code",
   "execution_count": 118,
   "metadata": {},
   "outputs": [
    {
     "name": "stdout",
     "output_type": "stream",
     "text": [
      "The current value of the 110 SPY stocks is $ 48611.20\n"
     ]
    }
   ],
   "source": [
    "spy_value = spy_close_price * spy_shares\n",
    "\n",
    "print(f\"The current value of the {spy_shares} SPY stocks is ${spy_value: .2f}\")"
   ]
  },
  {
   "cell_type": "code",
   "execution_count": 119,
   "metadata": {},
   "outputs": [
    {
     "name": "stdout",
     "output_type": "stream",
     "text": [
      "The current balance of the stock and bond portion of the portfolio is $ 70973.20\n"
     ]
    }
   ],
   "source": [
    "total_stocks_bonds = agg_value + spy_value\n",
    "\n",
    "print(f\"The current balance of the stock and bond portion of the portfolio is ${total_stocks_bonds: .2f}\")"
   ]
  },
  {
   "cell_type": "code",
   "execution_count": 120,
   "metadata": {},
   "outputs": [
    {
     "name": "stdout",
     "output_type": "stream",
     "text": [
      "The total value of the member's entire savings portfolio is $ 132036.08\n"
     ]
    }
   ],
   "source": [
    "# The total value of the member's entire savings portfolio\n",
    "total_portfolio = total_stocks_bonds + total_crypto_wallet\n",
    "\n",
    "print(f\"The total value of the member's entire savings portfolio is ${total_portfolio: .2f}\")"
   ]
  },
  {
   "cell_type": "markdown",
   "metadata": {},
   "source": [
    "### Evaluating the Emergency Fund"
   ]
  },
  {
   "cell_type": "markdown",
   "metadata": {},
   "source": [
    "#### Step 1: Creating a Python list named `savings_data` that has two elements. The first element contains the total value of the cryptocurrency wallet. The second element contains the total value of the stock and bond portions of the portfolio."
   ]
  },
  {
   "cell_type": "code",
   "execution_count": 122,
   "metadata": {},
   "outputs": [
    {
     "name": "stdout",
     "output_type": "stream",
     "text": [
      "[61062.883, 70973.20000000001]\n"
     ]
    }
   ],
   "source": [
    "savings_data = [total_crypto_wallet, total_stocks_bonds]\n",
    "\n",
    "print(savings_data)"
   ]
  },
  {
   "cell_type": "markdown",
   "metadata": {},
   "source": [
    "#### Step 2: Using the `savings_data` list to create a Pandas DataFrame named `savings_df`, and then displaying this DataFrame."
   ]
  },
  {
   "cell_type": "code",
   "execution_count": 123,
   "metadata": {},
   "outputs": [
    {
     "data": {
      "text/html": [
       "<div>\n",
       "<style scoped>\n",
       "    .dataframe tbody tr th:only-of-type {\n",
       "        vertical-align: middle;\n",
       "    }\n",
       "\n",
       "    .dataframe tbody tr th {\n",
       "        vertical-align: top;\n",
       "    }\n",
       "\n",
       "    .dataframe thead th {\n",
       "        text-align: right;\n",
       "    }\n",
       "</style>\n",
       "<table border=\"1\" class=\"dataframe\">\n",
       "  <thead>\n",
       "    <tr style=\"text-align: right;\">\n",
       "      <th></th>\n",
       "      <th>amount</th>\n",
       "    </tr>\n",
       "  </thead>\n",
       "  <tbody>\n",
       "    <tr>\n",
       "      <th>crypto</th>\n",
       "      <td>61062.883</td>\n",
       "    </tr>\n",
       "    <tr>\n",
       "      <th>stocks/bonds</th>\n",
       "      <td>70973.200</td>\n",
       "    </tr>\n",
       "  </tbody>\n",
       "</table>\n",
       "</div>"
      ],
      "text/plain": [
       "                 amount\n",
       "crypto        61062.883\n",
       "stocks/bonds  70973.200"
      ]
     },
     "execution_count": 123,
     "metadata": {},
     "output_type": "execute_result"
    }
   ],
   "source": [
    "savings_df = pd.DataFrame(savings_data, columns = [\"amount\"], index = [\"crypto\", \"stocks/bonds\"])\n",
    "\n",
    "savings_df"
   ]
  },
  {
   "cell_type": "markdown",
   "metadata": {},
   "source": [
    "#### Step 3: Using the `savings_df` DataFrame to plot a pie chart that visualizes the composition of the member’s portfolio. The y-axis of the pie chart uses `amount`."
   ]
  },
  {
   "cell_type": "code",
   "execution_count": 124,
   "metadata": {},
   "outputs": [
    {
     "data": {
      "text/plain": [
       "<AxesSubplot:title={'center':'Composition of the portfolio, crypto vs. stocks/bonds'}, ylabel='amount'>"
      ]
     },
     "execution_count": 124,
     "metadata": {},
     "output_type": "execute_result"
    },
    {
     "data": {
      "image/png": "[encoded data removed]",
      "text/plain": [
       "<Figure size 432x288 with 1 Axes>"
      ]
     },
     "metadata": {},
     "output_type": "display_data"
    }
   ],
   "source": [
    "savings_df.plot.pie(y = 'amount', title = 'Composition of the portfolio, crypto vs. stocks/bonds')"
   ]
  },
  {
   "cell_type": "markdown",
   "metadata": {},
   "source": [
    "#### Step 4: Determining if the current portfolio has enough to create an emergency fund as part of the member’s financial plan by using Python. Ideally, an emergency fund should equal to three times the member’s monthly income. "
   ]
  },
  {
   "cell_type": "markdown",
   "metadata": {},
   "source": [
    "##### Step 4-1: Creating a variable named `emergency_fund_value`, and setting it equal to three times the value of the member’s `monthly_income` of 12000."
   ]
  },
  {
   "cell_type": "code",
   "execution_count": 125,
   "metadata": {},
   "outputs": [],
   "source": [
    "emergency_fund_value = 3 * monthly_income"
   ]
  },
  {
   "cell_type": "markdown",
   "metadata": {},
   "source": [
    "##### Step 4-2: Creating a series of three if statements to determine if the member’s total portfolio is large enough to fund the emergency portfolio."
   ]
  },
  {
   "cell_type": "code",
   "execution_count": 126,
   "metadata": {},
   "outputs": [
    {
     "name": "stdout",
     "output_type": "stream",
     "text": [
      "Congratulations! You have enough money in this fund.\n"
     ]
    }
   ],
   "source": [
    "if total_portfolio > emergency_fund_value:\n",
    "    print(f\"Congratulations! You have enough money in this fund.\")\n",
    "elif total_portfolio == emergency_fund_value:\n",
    "    print(f\"Congratulations! You have reached this important financial goal.\")\n",
    "else:\n",
    "    print(f\"You are ${emergency_fund_value-total_portfolio} away from reaching the goal.\")"
   ]
  },
  {
   "cell_type": "markdown",
   "metadata": {},
   "source": [
    "## Part 2: Creating a Financial Planner for Retirement"
   ]
  },
  {
   "cell_type": "markdown",
   "metadata": {},
   "source": [
    "### Creating the Monte Carlo Simulation"
   ]
  },
  {
   "cell_type": "markdown",
   "metadata": {},
   "source": [
    "#### Step 1: Making an API call via the Alpaca SDK to get 3 years of historical closing prices for a traditional 60/40 portfolio split: 60% stocks (SPY) and 40% bonds (AGG)."
   ]
  },
  {
   "cell_type": "code",
   "execution_count": 127,
   "metadata": {},
   "outputs": [],
   "source": [
    "# Setting start and end dates of 3 years back from your current date\n",
    "start_date = pd.Timestamp(\"2019-01-28\", tz=\"America/New_York\").isoformat()\n",
    "end_date = pd.Timestamp(\"2022-01-28\", tz=\"America/New_York\").isoformat()\n",
    "\n",
    "# Setting number of rows to 1000 to retrieve the maximum amount of rows\n",
    "limit_rows = 1000"
   ]
  },
  {
   "cell_type": "code",
   "execution_count": 128,
   "metadata": {},
   "outputs": [
    {
     "data": {
      "text/html": [
       "<div>\n",
       "<style scoped>\n",
       "    .dataframe tbody tr th:only-of-type {\n",
       "        vertical-align: middle;\n",
       "    }\n",
       "\n",
       "    .dataframe tbody tr th {\n",
       "        vertical-align: top;\n",
       "    }\n",
       "\n",
       "    .dataframe thead tr th {\n",
       "        text-align: left;\n",
       "    }\n",
       "\n",
       "    .dataframe thead tr:last-of-type th {\n",
       "        text-align: right;\n",
       "    }\n",
       "</style>\n",
       "<table border=\"1\" class=\"dataframe\">\n",
       "  <thead>\n",
       "    <tr>\n",
       "      <th></th>\n",
       "      <th colspan=\"5\" halign=\"left\">AGG</th>\n",
       "      <th colspan=\"5\" halign=\"left\">SPY</th>\n",
       "    </tr>\n",
       "    <tr>\n",
       "      <th></th>\n",
       "      <th>open</th>\n",
       "      <th>high</th>\n",
       "      <th>low</th>\n",
       "      <th>close</th>\n",
       "      <th>volume</th>\n",
       "      <th>open</th>\n",
       "      <th>high</th>\n",
       "      <th>low</th>\n",
       "      <th>close</th>\n",
       "      <th>volume</th>\n",
       "    </tr>\n",
       "    <tr>\n",
       "      <th>time</th>\n",
       "      <th></th>\n",
       "      <th></th>\n",
       "      <th></th>\n",
       "      <th></th>\n",
       "      <th></th>\n",
       "      <th></th>\n",
       "      <th></th>\n",
       "      <th></th>\n",
       "      <th></th>\n",
       "      <th></th>\n",
       "    </tr>\n",
       "  </thead>\n",
       "  <tbody>\n",
       "    <tr>\n",
       "      <th>2019-01-28 00:00:00-05:00</th>\n",
       "      <td>106.62</td>\n",
       "      <td>106.745</td>\n",
       "      <td>106.580</td>\n",
       "      <td>106.6550</td>\n",
       "      <td>6372589</td>\n",
       "      <td>263.39</td>\n",
       "      <td>263.82</td>\n",
       "      <td>261.79</td>\n",
       "      <td>263.6350</td>\n",
       "      <td>75207990</td>\n",
       "    </tr>\n",
       "    <tr>\n",
       "      <th>2019-01-29 00:00:00-05:00</th>\n",
       "      <td>106.73</td>\n",
       "      <td>106.910</td>\n",
       "      <td>106.685</td>\n",
       "      <td>106.9063</td>\n",
       "      <td>5399892</td>\n",
       "      <td>263.92</td>\n",
       "      <td>264.55</td>\n",
       "      <td>262.48</td>\n",
       "      <td>263.3100</td>\n",
       "      <td>54249161</td>\n",
       "    </tr>\n",
       "    <tr>\n",
       "      <th>2019-01-30 00:00:00-05:00</th>\n",
       "      <td>106.79</td>\n",
       "      <td>107.140</td>\n",
       "      <td>106.790</td>\n",
       "      <td>107.1400</td>\n",
       "      <td>4948983</td>\n",
       "      <td>265.10</td>\n",
       "      <td>268.52</td>\n",
       "      <td>264.25</td>\n",
       "      <td>267.4625</td>\n",
       "      <td>75091893</td>\n",
       "    </tr>\n",
       "    <tr>\n",
       "      <th>2019-01-31 00:00:00-05:00</th>\n",
       "      <td>107.30</td>\n",
       "      <td>107.530</td>\n",
       "      <td>107.290</td>\n",
       "      <td>107.4600</td>\n",
       "      <td>11394113</td>\n",
       "      <td>267.51</td>\n",
       "      <td>270.47</td>\n",
       "      <td>267.27</td>\n",
       "      <td>270.2325</td>\n",
       "      <td>73699733</td>\n",
       "    </tr>\n",
       "    <tr>\n",
       "      <th>2019-02-01 00:00:00-05:00</th>\n",
       "      <td>107.09</td>\n",
       "      <td>107.150</td>\n",
       "      <td>106.880</td>\n",
       "      <td>106.9600</td>\n",
       "      <td>5325410</td>\n",
       "      <td>270.15</td>\n",
       "      <td>271.20</td>\n",
       "      <td>269.18</td>\n",
       "      <td>270.0700</td>\n",
       "      <td>68194167</td>\n",
       "    </tr>\n",
       "  </tbody>\n",
       "</table>\n",
       "</div>"
      ],
      "text/plain": [
       "                              AGG                                        \\\n",
       "                             open     high      low     close    volume   \n",
       "time                                                                      \n",
       "2019-01-28 00:00:00-05:00  106.62  106.745  106.580  106.6550   6372589   \n",
       "2019-01-29 00:00:00-05:00  106.73  106.910  106.685  106.9063   5399892   \n",
       "2019-01-30 00:00:00-05:00  106.79  107.140  106.790  107.1400   4948983   \n",
       "2019-01-31 00:00:00-05:00  107.30  107.530  107.290  107.4600  11394113   \n",
       "2019-02-01 00:00:00-05:00  107.09  107.150  106.880  106.9600   5325410   \n",
       "\n",
       "                              SPY                                      \n",
       "                             open    high     low     close    volume  \n",
       "time                                                                   \n",
       "2019-01-28 00:00:00-05:00  263.39  263.82  261.79  263.6350  75207990  \n",
       "2019-01-29 00:00:00-05:00  263.92  264.55  262.48  263.3100  54249161  \n",
       "2019-01-30 00:00:00-05:00  265.10  268.52  264.25  267.4625  75091893  \n",
       "2019-01-31 00:00:00-05:00  267.51  270.47  267.27  270.2325  73699733  \n",
       "2019-02-01 00:00:00-05:00  270.15  271.20  269.18  270.0700  68194167  "
      ]
     },
     "metadata": {},
     "output_type": "display_data"
    },
    {
     "data": {
      "text/html": [
       "<div>\n",
       "<style scoped>\n",
       "    .dataframe tbody tr th:only-of-type {\n",
       "        vertical-align: middle;\n",
       "    }\n",
       "\n",
       "    .dataframe tbody tr th {\n",
       "        vertical-align: top;\n",
       "    }\n",
       "\n",
       "    .dataframe thead tr th {\n",
       "        text-align: left;\n",
       "    }\n",
       "\n",
       "    .dataframe thead tr:last-of-type th {\n",
       "        text-align: right;\n",
       "    }\n",
       "</style>\n",
       "<table border=\"1\" class=\"dataframe\">\n",
       "  <thead>\n",
       "    <tr>\n",
       "      <th></th>\n",
       "      <th colspan=\"5\" halign=\"left\">AGG</th>\n",
       "      <th colspan=\"5\" halign=\"left\">SPY</th>\n",
       "    </tr>\n",
       "    <tr>\n",
       "      <th></th>\n",
       "      <th>open</th>\n",
       "      <th>high</th>\n",
       "      <th>low</th>\n",
       "      <th>close</th>\n",
       "      <th>volume</th>\n",
       "      <th>open</th>\n",
       "      <th>high</th>\n",
       "      <th>low</th>\n",
       "      <th>close</th>\n",
       "      <th>volume</th>\n",
       "    </tr>\n",
       "    <tr>\n",
       "      <th>time</th>\n",
       "      <th></th>\n",
       "      <th></th>\n",
       "      <th></th>\n",
       "      <th></th>\n",
       "      <th></th>\n",
       "      <th></th>\n",
       "      <th></th>\n",
       "      <th></th>\n",
       "      <th></th>\n",
       "      <th></th>\n",
       "    </tr>\n",
       "  </thead>\n",
       "  <tbody>\n",
       "    <tr>\n",
       "      <th>2022-01-24 00:00:00-05:00</th>\n",
       "      <td>112.3814</td>\n",
       "      <td>112.42</td>\n",
       "      <td>112.10</td>\n",
       "      <td>112.12</td>\n",
       "      <td>10666672</td>\n",
       "      <td>432.03</td>\n",
       "      <td>440.38</td>\n",
       "      <td>420.76</td>\n",
       "      <td>439.88</td>\n",
       "      <td>233026938</td>\n",
       "    </tr>\n",
       "    <tr>\n",
       "      <th>2022-01-25 00:00:00-05:00</th>\n",
       "      <td>112.1800</td>\n",
       "      <td>112.30</td>\n",
       "      <td>111.96</td>\n",
       "      <td>112.00</td>\n",
       "      <td>9392367</td>\n",
       "      <td>433.06</td>\n",
       "      <td>439.72</td>\n",
       "      <td>364.68</td>\n",
       "      <td>434.51</td>\n",
       "      <td>148023735</td>\n",
       "    </tr>\n",
       "    <tr>\n",
       "      <th>2022-01-26 00:00:00-05:00</th>\n",
       "      <td>112.0600</td>\n",
       "      <td>112.13</td>\n",
       "      <td>111.36</td>\n",
       "      <td>111.36</td>\n",
       "      <td>10170465</td>\n",
       "      <td>440.72</td>\n",
       "      <td>444.04</td>\n",
       "      <td>428.86</td>\n",
       "      <td>433.45</td>\n",
       "      <td>174214548</td>\n",
       "    </tr>\n",
       "    <tr>\n",
       "      <th>2022-01-27 00:00:00-05:00</th>\n",
       "      <td>111.6200</td>\n",
       "      <td>111.88</td>\n",
       "      <td>111.62</td>\n",
       "      <td>111.72</td>\n",
       "      <td>5836124</td>\n",
       "      <td>438.26</td>\n",
       "      <td>441.58</td>\n",
       "      <td>429.45</td>\n",
       "      <td>431.27</td>\n",
       "      <td>136251597</td>\n",
       "    </tr>\n",
       "    <tr>\n",
       "      <th>2022-01-28 00:00:00-05:00</th>\n",
       "      <td>111.4600</td>\n",
       "      <td>111.86</td>\n",
       "      <td>111.44</td>\n",
       "      <td>111.81</td>\n",
       "      <td>10400422</td>\n",
       "      <td>432.70</td>\n",
       "      <td>442.00</td>\n",
       "      <td>427.82</td>\n",
       "      <td>441.92</td>\n",
       "      <td>142062305</td>\n",
       "    </tr>\n",
       "  </tbody>\n",
       "</table>\n",
       "</div>"
      ],
      "text/plain": [
       "                                AGG                                       SPY  \\\n",
       "                               open    high     low   close    volume    open   \n",
       "time                                                                            \n",
       "2022-01-24 00:00:00-05:00  112.3814  112.42  112.10  112.12  10666672  432.03   \n",
       "2022-01-25 00:00:00-05:00  112.1800  112.30  111.96  112.00   9392367  433.06   \n",
       "2022-01-26 00:00:00-05:00  112.0600  112.13  111.36  111.36  10170465  440.72   \n",
       "2022-01-27 00:00:00-05:00  111.6200  111.88  111.62  111.72   5836124  438.26   \n",
       "2022-01-28 00:00:00-05:00  111.4600  111.86  111.44  111.81  10400422  432.70   \n",
       "\n",
       "                                                              \n",
       "                             high     low   close     volume  \n",
       "time                                                          \n",
       "2022-01-24 00:00:00-05:00  440.38  420.76  439.88  233026938  \n",
       "2022-01-25 00:00:00-05:00  439.72  364.68  434.51  148023735  \n",
       "2022-01-26 00:00:00-05:00  444.04  428.86  433.45  174214548  \n",
       "2022-01-27 00:00:00-05:00  441.58  429.45  431.27  136251597  \n",
       "2022-01-28 00:00:00-05:00  442.00  427.82  441.92  142062305  "
      ]
     },
     "metadata": {},
     "output_type": "display_data"
    }
   ],
   "source": [
    "# Using the Alpaca get_barset function to make the API call to get the 3 years worth of pricing data\n",
    "historical_closing_prices_df = alpaca.get_barset(tickers, timeframe, start=start_date, end=end_date, limit=limit_rows).df\n",
    "\n",
    "# Displaying both the first and last five rows of the DataFrame\n",
    "display(historical_closing_prices_df.head())\n",
    "display(historical_closing_prices_df.tail())"
   ]
  },
  {
   "cell_type": "markdown",
   "metadata": {},
   "source": [
    "#### Step 2: Runnig a Monte Carlo simulation of 500 samples and 30 years for the 60/40 portfolio, and then plotting the results."
   ]
  },
  {
   "cell_type": "code",
   "execution_count": 129,
   "metadata": {},
   "outputs": [
    {
     "data": {
      "text/html": [
       "<div>\n",
       "<style scoped>\n",
       "    .dataframe tbody tr th:only-of-type {\n",
       "        vertical-align: middle;\n",
       "    }\n",
       "\n",
       "    .dataframe tbody tr th {\n",
       "        vertical-align: top;\n",
       "    }\n",
       "\n",
       "    .dataframe thead tr th {\n",
       "        text-align: left;\n",
       "    }\n",
       "\n",
       "    .dataframe thead tr:last-of-type th {\n",
       "        text-align: right;\n",
       "    }\n",
       "</style>\n",
       "<table border=\"1\" class=\"dataframe\">\n",
       "  <thead>\n",
       "    <tr>\n",
       "      <th></th>\n",
       "      <th colspan=\"6\" halign=\"left\">AGG</th>\n",
       "      <th colspan=\"6\" halign=\"left\">SPY</th>\n",
       "    </tr>\n",
       "    <tr>\n",
       "      <th></th>\n",
       "      <th>open</th>\n",
       "      <th>high</th>\n",
       "      <th>low</th>\n",
       "      <th>close</th>\n",
       "      <th>volume</th>\n",
       "      <th>daily_return</th>\n",
       "      <th>open</th>\n",
       "      <th>high</th>\n",
       "      <th>low</th>\n",
       "      <th>close</th>\n",
       "      <th>volume</th>\n",
       "      <th>daily_return</th>\n",
       "    </tr>\n",
       "    <tr>\n",
       "      <th>time</th>\n",
       "      <th></th>\n",
       "      <th></th>\n",
       "      <th></th>\n",
       "      <th></th>\n",
       "      <th></th>\n",
       "      <th></th>\n",
       "      <th></th>\n",
       "      <th></th>\n",
       "      <th></th>\n",
       "      <th></th>\n",
       "      <th></th>\n",
       "      <th></th>\n",
       "    </tr>\n",
       "  </thead>\n",
       "  <tbody>\n",
       "    <tr>\n",
       "      <th>2019-01-28 00:00:00-05:00</th>\n",
       "      <td>106.62</td>\n",
       "      <td>106.745</td>\n",
       "      <td>106.580</td>\n",
       "      <td>106.6550</td>\n",
       "      <td>6372589</td>\n",
       "      <td>NaN</td>\n",
       "      <td>263.39</td>\n",
       "      <td>263.82</td>\n",
       "      <td>261.79</td>\n",
       "      <td>263.6350</td>\n",
       "      <td>75207990</td>\n",
       "      <td>NaN</td>\n",
       "    </tr>\n",
       "    <tr>\n",
       "      <th>2019-01-29 00:00:00-05:00</th>\n",
       "      <td>106.73</td>\n",
       "      <td>106.910</td>\n",
       "      <td>106.685</td>\n",
       "      <td>106.9063</td>\n",
       "      <td>5399892</td>\n",
       "      <td>0.002356</td>\n",
       "      <td>263.92</td>\n",
       "      <td>264.55</td>\n",
       "      <td>262.48</td>\n",
       "      <td>263.3100</td>\n",
       "      <td>54249161</td>\n",
       "      <td>-0.001233</td>\n",
       "    </tr>\n",
       "    <tr>\n",
       "      <th>2019-01-30 00:00:00-05:00</th>\n",
       "      <td>106.79</td>\n",
       "      <td>107.140</td>\n",
       "      <td>106.790</td>\n",
       "      <td>107.1400</td>\n",
       "      <td>4948983</td>\n",
       "      <td>0.002186</td>\n",
       "      <td>265.10</td>\n",
       "      <td>268.52</td>\n",
       "      <td>264.25</td>\n",
       "      <td>267.4625</td>\n",
       "      <td>75091893</td>\n",
       "      <td>0.015770</td>\n",
       "    </tr>\n",
       "    <tr>\n",
       "      <th>2019-01-31 00:00:00-05:00</th>\n",
       "      <td>107.30</td>\n",
       "      <td>107.530</td>\n",
       "      <td>107.290</td>\n",
       "      <td>107.4600</td>\n",
       "      <td>11394113</td>\n",
       "      <td>0.002987</td>\n",
       "      <td>267.51</td>\n",
       "      <td>270.47</td>\n",
       "      <td>267.27</td>\n",
       "      <td>270.2325</td>\n",
       "      <td>73699733</td>\n",
       "      <td>0.010357</td>\n",
       "    </tr>\n",
       "    <tr>\n",
       "      <th>2019-02-01 00:00:00-05:00</th>\n",
       "      <td>107.09</td>\n",
       "      <td>107.150</td>\n",
       "      <td>106.880</td>\n",
       "      <td>106.9600</td>\n",
       "      <td>5325410</td>\n",
       "      <td>-0.004653</td>\n",
       "      <td>270.15</td>\n",
       "      <td>271.20</td>\n",
       "      <td>269.18</td>\n",
       "      <td>270.0700</td>\n",
       "      <td>68194167</td>\n",
       "      <td>-0.000601</td>\n",
       "    </tr>\n",
       "  </tbody>\n",
       "</table>\n",
       "</div>"
      ],
      "text/plain": [
       "                              AGG                                        \\\n",
       "                             open     high      low     close    volume   \n",
       "time                                                                      \n",
       "2019-01-28 00:00:00-05:00  106.62  106.745  106.580  106.6550   6372589   \n",
       "2019-01-29 00:00:00-05:00  106.73  106.910  106.685  106.9063   5399892   \n",
       "2019-01-30 00:00:00-05:00  106.79  107.140  106.790  107.1400   4948983   \n",
       "2019-01-31 00:00:00-05:00  107.30  107.530  107.290  107.4600  11394113   \n",
       "2019-02-01 00:00:00-05:00  107.09  107.150  106.880  106.9600   5325410   \n",
       "\n",
       "                                           SPY                            \\\n",
       "                          daily_return    open    high     low     close   \n",
       "time                                                                       \n",
       "2019-01-28 00:00:00-05:00          NaN  263.39  263.82  261.79  263.6350   \n",
       "2019-01-29 00:00:00-05:00     0.002356  263.92  264.55  262.48  263.3100   \n",
       "2019-01-30 00:00:00-05:00     0.002186  265.10  268.52  264.25  267.4625   \n",
       "2019-01-31 00:00:00-05:00     0.002987  267.51  270.47  267.27  270.2325   \n",
       "2019-02-01 00:00:00-05:00    -0.004653  270.15  271.20  269.18  270.0700   \n",
       "\n",
       "                                                  \n",
       "                             volume daily_return  \n",
       "time                                              \n",
       "2019-01-28 00:00:00-05:00  75207990          NaN  \n",
       "2019-01-29 00:00:00-05:00  54249161    -0.001233  \n",
       "2019-01-30 00:00:00-05:00  75091893     0.015770  \n",
       "2019-01-31 00:00:00-05:00  73699733     0.010357  \n",
       "2019-02-01 00:00:00-05:00  68194167    -0.000601  "
      ]
     },
     "execution_count": 129,
     "metadata": {},
     "output_type": "execute_result"
    }
   ],
   "source": [
    "# Configurating the Monte Carlo simulation to forecast 30 years cumulative returns\n",
    "thirty_year_forecast = MCSimulation(\n",
    "  portfolio_data = historical_closing_prices_df,\n",
    "  weights = [.40,.60],\n",
    "  num_simulation = 500,\n",
    "  num_trading_days = 252*30\n",
    ")\n",
    "\n",
    "# Reviewing the simulation input data\n",
    "thirty_year_forecast.portfolio_data.head()"
   ]
  },
  {
   "cell_type": "code",
   "execution_count": 130,
   "metadata": {},
   "outputs": [
    {
     "name": "stdout",
     "output_type": "stream",
     "text": [
      "Running Monte Carlo simulation number 0.\n",
      "Running Monte Carlo simulation number 10.\n",
      "Running Monte Carlo simulation number 20.\n",
      "Running Monte Carlo simulation number 30.\n",
      "Running Monte Carlo simulation number 40.\n",
      "Running Monte Carlo simulation number 50.\n",
      "Running Monte Carlo simulation number 60.\n",
      "Running Monte Carlo simulation number 70.\n",
      "Running Monte Carlo simulation number 80.\n",
      "Running Monte Carlo simulation number 90.\n",
      "Running Monte Carlo simulation number 100.\n"
     ]
    },
    {
     "name": "stderr",
     "output_type": "stream",
     "text": [
      "C:\\Users\\Magda\\Desktop\\FinTech-Workspace\\Week_5\\financial_planning_tools\\MCForecastTools.py:117: PerformanceWarning: DataFrame is highly fragmented.  This is usually the result of calling `frame.insert` many times, which has poor performance.  Consider joining all columns at once using pd.concat(axis=1) instead.  To get a de-fragmented frame, use `newframe = frame.copy()`\n",
      "  portfolio_cumulative_returns[n] = (1 + sim_df.fillna(0)).cumprod()\n"
     ]
    },
    {
     "name": "stdout",
     "output_type": "stream",
     "text": [
      "Running Monte Carlo simulation number 110.\n",
      "Running Monte Carlo simulation number 120.\n",
      "Running Monte Carlo simulation number 130.\n",
      "Running Monte Carlo simulation number 140.\n",
      "Running Monte Carlo simulation number 150.\n",
      "Running Monte Carlo simulation number 160.\n",
      "Running Monte Carlo simulation number 170.\n",
      "Running Monte Carlo simulation number 180.\n",
      "Running Monte Carlo simulation number 190.\n",
      "Running Monte Carlo simulation number 200.\n",
      "Running Monte Carlo simulation number 210.\n",
      "Running Monte Carlo simulation number 220.\n",
      "Running Monte Carlo simulation number 230.\n",
      "Running Monte Carlo simulation number 240.\n",
      "Running Monte Carlo simulation number 250.\n",
      "Running Monte Carlo simulation number 260.\n",
      "Running Monte Carlo simulation number 270.\n",
      "Running Monte Carlo simulation number 280.\n",
      "Running Monte Carlo simulation number 290.\n",
      "Running Monte Carlo simulation number 300.\n",
      "Running Monte Carlo simulation number 310.\n",
      "Running Monte Carlo simulation number 320.\n",
      "Running Monte Carlo simulation number 330.\n",
      "Running Monte Carlo simulation number 340.\n",
      "Running Monte Carlo simulation number 350.\n",
      "Running Monte Carlo simulation number 360.\n",
      "Running Monte Carlo simulation number 370.\n",
      "Running Monte Carlo simulation number 380.\n",
      "Running Monte Carlo simulation number 390.\n",
      "Running Monte Carlo simulation number 400.\n",
      "Running Monte Carlo simulation number 410.\n",
      "Running Monte Carlo simulation number 420.\n",
      "Running Monte Carlo simulation number 430.\n",
      "Running Monte Carlo simulation number 440.\n",
      "Running Monte Carlo simulation number 450.\n",
      "Running Monte Carlo simulation number 460.\n",
      "Running Monte Carlo simulation number 470.\n",
      "Running Monte Carlo simulation number 480.\n",
      "Running Monte Carlo simulation number 490.\n"
     ]
    },
    {
     "data": {
      "text/html": [
       "<div>\n",
       "<style scoped>\n",
       "    .dataframe tbody tr th:only-of-type {\n",
       "        vertical-align: middle;\n",
       "    }\n",
       "\n",
       "    .dataframe tbody tr th {\n",
       "        vertical-align: top;\n",
       "    }\n",
       "\n",
       "    .dataframe thead th {\n",
       "        text-align: right;\n",
       "    }\n",
       "</style>\n",
       "<table border=\"1\" class=\"dataframe\">\n",
       "  <thead>\n",
       "    <tr style=\"text-align: right;\">\n",
       "      <th></th>\n",
       "      <th>0</th>\n",
       "      <th>1</th>\n",
       "      <th>2</th>\n",
       "      <th>3</th>\n",
       "      <th>4</th>\n",
       "      <th>5</th>\n",
       "      <th>6</th>\n",
       "      <th>7</th>\n",
       "      <th>8</th>\n",
       "      <th>9</th>\n",
       "      <th>...</th>\n",
       "      <th>490</th>\n",
       "      <th>491</th>\n",
       "      <th>492</th>\n",
       "      <th>493</th>\n",
       "      <th>494</th>\n",
       "      <th>495</th>\n",
       "      <th>496</th>\n",
       "      <th>497</th>\n",
       "      <th>498</th>\n",
       "      <th>499</th>\n",
       "    </tr>\n",
       "  </thead>\n",
       "  <tbody>\n",
       "    <tr>\n",
       "      <th>0</th>\n",
       "      <td>1.000000</td>\n",
       "      <td>1.000000</td>\n",
       "      <td>1.000000</td>\n",
       "      <td>1.000000</td>\n",
       "      <td>1.000000</td>\n",
       "      <td>1.000000</td>\n",
       "      <td>1.000000</td>\n",
       "      <td>1.000000</td>\n",
       "      <td>1.000000</td>\n",
       "      <td>1.000000</td>\n",
       "      <td>...</td>\n",
       "      <td>1.000000</td>\n",
       "      <td>1.000000</td>\n",
       "      <td>1.000000</td>\n",
       "      <td>1.000000</td>\n",
       "      <td>1.000000</td>\n",
       "      <td>1.000000</td>\n",
       "      <td>1.000000</td>\n",
       "      <td>1.000000</td>\n",
       "      <td>1.000000</td>\n",
       "      <td>1.000000</td>\n",
       "    </tr>\n",
       "    <tr>\n",
       "      <th>1</th>\n",
       "      <td>1.000106</td>\n",
       "      <td>1.004298</td>\n",
       "      <td>0.996324</td>\n",
       "      <td>0.998321</td>\n",
       "      <td>0.999677</td>\n",
       "      <td>0.991222</td>\n",
       "      <td>1.005990</td>\n",
       "      <td>1.013514</td>\n",
       "      <td>0.991027</td>\n",
       "      <td>0.992523</td>\n",
       "      <td>...</td>\n",
       "      <td>0.998947</td>\n",
       "      <td>0.993086</td>\n",
       "      <td>0.997536</td>\n",
       "      <td>1.000710</td>\n",
       "      <td>1.001990</td>\n",
       "      <td>1.006036</td>\n",
       "      <td>1.000523</td>\n",
       "      <td>1.002731</td>\n",
       "      <td>1.013157</td>\n",
       "      <td>0.989246</td>\n",
       "    </tr>\n",
       "    <tr>\n",
       "      <th>2</th>\n",
       "      <td>1.003200</td>\n",
       "      <td>1.003303</td>\n",
       "      <td>0.990873</td>\n",
       "      <td>0.983829</td>\n",
       "      <td>1.005397</td>\n",
       "      <td>0.984735</td>\n",
       "      <td>1.002731</td>\n",
       "      <td>1.018265</td>\n",
       "      <td>0.983891</td>\n",
       "      <td>0.990975</td>\n",
       "      <td>...</td>\n",
       "      <td>0.989882</td>\n",
       "      <td>0.997668</td>\n",
       "      <td>1.005012</td>\n",
       "      <td>1.000780</td>\n",
       "      <td>1.003254</td>\n",
       "      <td>0.993887</td>\n",
       "      <td>0.996339</td>\n",
       "      <td>1.007530</td>\n",
       "      <td>1.021334</td>\n",
       "      <td>0.982160</td>\n",
       "    </tr>\n",
       "    <tr>\n",
       "      <th>3</th>\n",
       "      <td>0.996659</td>\n",
       "      <td>1.006149</td>\n",
       "      <td>0.998191</td>\n",
       "      <td>0.987613</td>\n",
       "      <td>1.007855</td>\n",
       "      <td>0.984384</td>\n",
       "      <td>1.003198</td>\n",
       "      <td>1.013768</td>\n",
       "      <td>0.994605</td>\n",
       "      <td>0.986018</td>\n",
       "      <td>...</td>\n",
       "      <td>1.003074</td>\n",
       "      <td>1.000365</td>\n",
       "      <td>1.004607</td>\n",
       "      <td>1.004099</td>\n",
       "      <td>1.003961</td>\n",
       "      <td>1.002482</td>\n",
       "      <td>0.991104</td>\n",
       "      <td>1.007653</td>\n",
       "      <td>1.024962</td>\n",
       "      <td>0.977058</td>\n",
       "    </tr>\n",
       "    <tr>\n",
       "      <th>4</th>\n",
       "      <td>0.997652</td>\n",
       "      <td>1.001865</td>\n",
       "      <td>1.001960</td>\n",
       "      <td>0.980974</td>\n",
       "      <td>1.005648</td>\n",
       "      <td>0.993755</td>\n",
       "      <td>1.008176</td>\n",
       "      <td>1.011166</td>\n",
       "      <td>0.984216</td>\n",
       "      <td>0.983413</td>\n",
       "      <td>...</td>\n",
       "      <td>1.015205</td>\n",
       "      <td>1.005729</td>\n",
       "      <td>1.004494</td>\n",
       "      <td>1.015278</td>\n",
       "      <td>1.015972</td>\n",
       "      <td>0.994311</td>\n",
       "      <td>0.984945</td>\n",
       "      <td>1.000650</td>\n",
       "      <td>1.008274</td>\n",
       "      <td>0.976300</td>\n",
       "    </tr>\n",
       "    <tr>\n",
       "      <th>...</th>\n",
       "      <td>...</td>\n",
       "      <td>...</td>\n",
       "      <td>...</td>\n",
       "      <td>...</td>\n",
       "      <td>...</td>\n",
       "      <td>...</td>\n",
       "      <td>...</td>\n",
       "      <td>...</td>\n",
       "      <td>...</td>\n",
       "      <td>...</td>\n",
       "      <td>...</td>\n",
       "      <td>...</td>\n",
       "      <td>...</td>\n",
       "      <td>...</td>\n",
       "      <td>...</td>\n",
       "      <td>...</td>\n",
       "      <td>...</td>\n",
       "      <td>...</td>\n",
       "      <td>...</td>\n",
       "      <td>...</td>\n",
       "      <td>...</td>\n",
       "    </tr>\n",
       "    <tr>\n",
       "      <th>7556</th>\n",
       "      <td>94.154532</td>\n",
       "      <td>12.182415</td>\n",
       "      <td>15.546656</td>\n",
       "      <td>52.927472</td>\n",
       "      <td>19.215045</td>\n",
       "      <td>48.227071</td>\n",
       "      <td>46.470140</td>\n",
       "      <td>16.003745</td>\n",
       "      <td>22.438535</td>\n",
       "      <td>37.546588</td>\n",
       "      <td>...</td>\n",
       "      <td>47.777258</td>\n",
       "      <td>36.896884</td>\n",
       "      <td>87.477328</td>\n",
       "      <td>7.139236</td>\n",
       "      <td>42.946710</td>\n",
       "      <td>18.409988</td>\n",
       "      <td>18.287430</td>\n",
       "      <td>40.297382</td>\n",
       "      <td>19.111733</td>\n",
       "      <td>61.792071</td>\n",
       "    </tr>\n",
       "    <tr>\n",
       "      <th>7557</th>\n",
       "      <td>94.138752</td>\n",
       "      <td>12.231399</td>\n",
       "      <td>15.832866</td>\n",
       "      <td>53.683144</td>\n",
       "      <td>19.399647</td>\n",
       "      <td>48.627267</td>\n",
       "      <td>46.364333</td>\n",
       "      <td>16.073632</td>\n",
       "      <td>22.301743</td>\n",
       "      <td>37.717904</td>\n",
       "      <td>...</td>\n",
       "      <td>48.227192</td>\n",
       "      <td>36.711332</td>\n",
       "      <td>87.420343</td>\n",
       "      <td>7.237996</td>\n",
       "      <td>43.014845</td>\n",
       "      <td>18.492079</td>\n",
       "      <td>18.126482</td>\n",
       "      <td>40.514811</td>\n",
       "      <td>18.966641</td>\n",
       "      <td>61.154324</td>\n",
       "    </tr>\n",
       "    <tr>\n",
       "      <th>7558</th>\n",
       "      <td>93.935823</td>\n",
       "      <td>12.245565</td>\n",
       "      <td>15.791620</td>\n",
       "      <td>54.095376</td>\n",
       "      <td>19.458327</td>\n",
       "      <td>48.427091</td>\n",
       "      <td>46.868121</td>\n",
       "      <td>16.135134</td>\n",
       "      <td>22.504534</td>\n",
       "      <td>37.878268</td>\n",
       "      <td>...</td>\n",
       "      <td>48.631164</td>\n",
       "      <td>36.464664</td>\n",
       "      <td>87.876054</td>\n",
       "      <td>7.306681</td>\n",
       "      <td>42.672414</td>\n",
       "      <td>18.877877</td>\n",
       "      <td>18.223242</td>\n",
       "      <td>40.474599</td>\n",
       "      <td>18.877274</td>\n",
       "      <td>61.773904</td>\n",
       "    </tr>\n",
       "    <tr>\n",
       "      <th>7559</th>\n",
       "      <td>95.277294</td>\n",
       "      <td>12.240912</td>\n",
       "      <td>15.768437</td>\n",
       "      <td>53.199695</td>\n",
       "      <td>19.681950</td>\n",
       "      <td>48.099385</td>\n",
       "      <td>46.832095</td>\n",
       "      <td>15.976185</td>\n",
       "      <td>22.744957</td>\n",
       "      <td>38.037445</td>\n",
       "      <td>...</td>\n",
       "      <td>48.435624</td>\n",
       "      <td>36.570192</td>\n",
       "      <td>88.019368</td>\n",
       "      <td>7.279972</td>\n",
       "      <td>42.762465</td>\n",
       "      <td>18.746997</td>\n",
       "      <td>18.428245</td>\n",
       "      <td>40.358361</td>\n",
       "      <td>18.735292</td>\n",
       "      <td>60.871679</td>\n",
       "    </tr>\n",
       "    <tr>\n",
       "      <th>7560</th>\n",
       "      <td>95.648193</td>\n",
       "      <td>12.221280</td>\n",
       "      <td>15.713462</td>\n",
       "      <td>53.649473</td>\n",
       "      <td>19.617888</td>\n",
       "      <td>47.570830</td>\n",
       "      <td>46.301181</td>\n",
       "      <td>15.919977</td>\n",
       "      <td>22.901598</td>\n",
       "      <td>37.831061</td>\n",
       "      <td>...</td>\n",
       "      <td>48.268942</td>\n",
       "      <td>36.563576</td>\n",
       "      <td>87.992407</td>\n",
       "      <td>7.246871</td>\n",
       "      <td>43.283957</td>\n",
       "      <td>18.835582</td>\n",
       "      <td>18.446200</td>\n",
       "      <td>39.790530</td>\n",
       "      <td>18.872996</td>\n",
       "      <td>61.593415</td>\n",
       "    </tr>\n",
       "  </tbody>\n",
       "</table>\n",
       "<p>7561 rows × 500 columns</p>\n",
       "</div>"
      ],
      "text/plain": [
       "            0          1          2          3          4          5    \\\n",
       "0      1.000000   1.000000   1.000000   1.000000   1.000000   1.000000   \n",
       "1      1.000106   1.004298   0.996324   0.998321   0.999677   0.991222   \n",
       "2      1.003200   1.003303   0.990873   0.983829   1.005397   0.984735   \n",
       "3      0.996659   1.006149   0.998191   0.987613   1.007855   0.984384   \n",
       "4      0.997652   1.001865   1.001960   0.980974   1.005648   0.993755   \n",
       "...         ...        ...        ...        ...        ...        ...   \n",
       "7556  94.154532  12.182415  15.546656  52.927472  19.215045  48.227071   \n",
       "7557  94.138752  12.231399  15.832866  53.683144  19.399647  48.627267   \n",
       "7558  93.935823  12.245565  15.791620  54.095376  19.458327  48.427091   \n",
       "7559  95.277294  12.240912  15.768437  53.199695  19.681950  48.099385   \n",
       "7560  95.648193  12.221280  15.713462  53.649473  19.617888  47.570830   \n",
       "\n",
       "            6          7          8          9    ...        490        491  \\\n",
       "0      1.000000   1.000000   1.000000   1.000000  ...   1.000000   1.000000   \n",
       "1      1.005990   1.013514   0.991027   0.992523  ...   0.998947   0.993086   \n",
       "2      1.002731   1.018265   0.983891   0.990975  ...   0.989882   0.997668   \n",
       "3      1.003198   1.013768   0.994605   0.986018  ...   1.003074   1.000365   \n",
       "4      1.008176   1.011166   0.984216   0.983413  ...   1.015205   1.005729   \n",
       "...         ...        ...        ...        ...  ...        ...        ...   \n",
       "7556  46.470140  16.003745  22.438535  37.546588  ...  47.777258  36.896884   \n",
       "7557  46.364333  16.073632  22.301743  37.717904  ...  48.227192  36.711332   \n",
       "7558  46.868121  16.135134  22.504534  37.878268  ...  48.631164  36.464664   \n",
       "7559  46.832095  15.976185  22.744957  38.037445  ...  48.435624  36.570192   \n",
       "7560  46.301181  15.919977  22.901598  37.831061  ...  48.268942  36.563576   \n",
       "\n",
       "            492       493        494        495        496        497  \\\n",
       "0      1.000000  1.000000   1.000000   1.000000   1.000000   1.000000   \n",
       "1      0.997536  1.000710   1.001990   1.006036   1.000523   1.002731   \n",
       "2      1.005012  1.000780   1.003254   0.993887   0.996339   1.007530   \n",
       "3      1.004607  1.004099   1.003961   1.002482   0.991104   1.007653   \n",
       "4      1.004494  1.015278   1.015972   0.994311   0.984945   1.000650   \n",
       "...         ...       ...        ...        ...        ...        ...   \n",
       "7556  87.477328  7.139236  42.946710  18.409988  18.287430  40.297382   \n",
       "7557  87.420343  7.237996  43.014845  18.492079  18.126482  40.514811   \n",
       "7558  87.876054  7.306681  42.672414  18.877877  18.223242  40.474599   \n",
       "7559  88.019368  7.279972  42.762465  18.746997  18.428245  40.358361   \n",
       "7560  87.992407  7.246871  43.283957  18.835582  18.446200  39.790530   \n",
       "\n",
       "            498        499  \n",
       "0      1.000000   1.000000  \n",
       "1      1.013157   0.989246  \n",
       "2      1.021334   0.982160  \n",
       "3      1.024962   0.977058  \n",
       "4      1.008274   0.976300  \n",
       "...         ...        ...  \n",
       "7556  19.111733  61.792071  \n",
       "7557  18.966641  61.154324  \n",
       "7558  18.877274  61.773904  \n",
       "7559  18.735292  60.871679  \n",
       "7560  18.872996  61.593415  \n",
       "\n",
       "[7561 rows x 500 columns]"
      ]
     },
     "execution_count": 130,
     "metadata": {},
     "output_type": "execute_result"
    }
   ],
   "source": [
    "# Runnig the Monte Carlo simulation to forecast 30 years cumulative returns\n",
    "thirty_year_forecast.calc_cumulative_return()"
   ]
  },
  {
   "cell_type": "code",
   "execution_count": 131,
   "metadata": {},
   "outputs": [
    {
     "data": {
      "text/plain": [
       "<AxesSubplot:title={'center':'500 Simulations of Cumulative Portfolio Return Trajectories Over the Next 7560 Trading Days.'}>"
      ]
     },
     "execution_count": 131,
     "metadata": {},
     "output_type": "execute_result"
    },
    {
     "data": {
      "image/png": "[encoded data removed]",
      "text/plain": [
       "<Figure size 432x288 with 1 Axes>"
      ]
     },
     "metadata": {
      "needs_background": "light"
     },
     "output_type": "display_data"
    }
   ],
   "source": [
    "# Visualizing the 30-year Monte Carlo simulation by creating an overlay line plot\n",
    "thirty_year_forecast.plot_simulation()"
   ]
  },
  {
   "cell_type": "markdown",
   "metadata": {},
   "source": [
    "#### Step 3: Plotting the probability distribution of the Monte Carlo simulation."
   ]
  },
  {
   "cell_type": "code",
   "execution_count": 132,
   "metadata": {},
   "outputs": [
    {
     "data": {
      "text/plain": [
       "<AxesSubplot:title={'center':'Distribution of Final Cumuluative Returns Across All 500 Simulations'}, ylabel='Frequency'>"
      ]
     },
     "execution_count": 132,
     "metadata": {},
     "output_type": "execute_result"
    },
    {
     "data": {
      "image/png": "[encoded data removed]",
      "text/plain": [
       "<Figure size 432x288 with 1 Axes>"
      ]
     },
     "metadata": {
      "needs_background": "light"
     },
     "output_type": "display_data"
    }
   ],
   "source": [
    "# Visualizing the probability distribution of the 30-year Monte Carlo simulation by plotting a histogram\n",
    "thirty_year_forecast.plot_distribution()"
   ]
  },
  {
   "cell_type": "markdown",
   "metadata": {},
   "source": [
    "#### Step 4: Generating the summary statistics for the Monte Carlo simulation."
   ]
  },
  {
   "cell_type": "code",
   "execution_count": 133,
   "metadata": {},
   "outputs": [
    {
     "data": {
      "text/plain": [
       "count           500.000000\n",
       "mean             40.453487\n",
       "std              32.734160\n",
       "min               3.071761\n",
       "25%              18.994831\n",
       "50%              31.657778\n",
       "75%              51.912459\n",
       "max             278.713640\n",
       "95% CI Lower      7.160322\n",
       "95% CI Upper    124.880121\n",
       "Name: 7560, dtype: float64"
      ]
     },
     "execution_count": 133,
     "metadata": {},
     "output_type": "execute_result"
    }
   ],
   "source": [
    "thirty_year_forecast_statistics = thirty_year_forecast.summarize_cumulative_return()\n",
    "\n",
    "thirty_year_forecast_statistics"
   ]
  },
  {
   "cell_type": "markdown",
   "metadata": {},
   "source": [
    "### Analyzing the Retirement Portfolio Forecasts in order to see what are the lower and upper bounds for the expected value of the portfolio with a 95% confidence interval\n"
   ]
  },
  {
   "cell_type": "code",
   "execution_count": 134,
   "metadata": {},
   "outputs": [
    {
     "name": "stdout",
     "output_type": "stream",
     "text": [
      "The current balance of the stock and bond porttion of the portfoio is $ 70973.20\n"
     ]
    }
   ],
   "source": [
    "print(f\"The current balance of the stock and bond porttion of the portfoio is ${total_stocks_bonds: .2f}\")"
   ]
  },
  {
   "cell_type": "code",
   "execution_count": 135,
   "metadata": {},
   "outputs": [
    {
     "name": "stdout",
     "output_type": "stream",
     "text": [
      "There is a 95% chance that an initial investment of $132036.083 over the next 30 years will end within in the range of $ 945420.91 and $ 16488682.02\n"
     ]
    }
   ],
   "source": [
    "ci_lower_thirty_cumulative_return = thirty_year_forecast_statistics[8] * total_portfolio\n",
    "ci_upper_thirty_cumulative_return = thirty_year_forecast_statistics[9] * total_portfolio\n",
    "\n",
    "print(f\"There is a 95% chance that an initial investment of ${total_portfolio} over the next 30 years will end within in the range of ${ci_lower_thirty_cumulative_return: .2f} and ${ci_upper_thirty_cumulative_return: .2f}\")"
   ]
  },
  {
   "cell_type": "markdown",
   "metadata": {},
   "source": [
    "### Forecast Cumulative Returns for 10 Years from now"
   ]
  },
  {
   "cell_type": "code",
   "execution_count": 136,
   "metadata": {},
   "outputs": [
    {
     "data": {
      "text/html": [
       "<div>\n",
       "<style scoped>\n",
       "    .dataframe tbody tr th:only-of-type {\n",
       "        vertical-align: middle;\n",
       "    }\n",
       "\n",
       "    .dataframe tbody tr th {\n",
       "        vertical-align: top;\n",
       "    }\n",
       "\n",
       "    .dataframe thead tr th {\n",
       "        text-align: left;\n",
       "    }\n",
       "\n",
       "    .dataframe thead tr:last-of-type th {\n",
       "        text-align: right;\n",
       "    }\n",
       "</style>\n",
       "<table border=\"1\" class=\"dataframe\">\n",
       "  <thead>\n",
       "    <tr>\n",
       "      <th></th>\n",
       "      <th colspan=\"6\" halign=\"left\">AGG</th>\n",
       "      <th colspan=\"6\" halign=\"left\">SPY</th>\n",
       "    </tr>\n",
       "    <tr>\n",
       "      <th></th>\n",
       "      <th>open</th>\n",
       "      <th>high</th>\n",
       "      <th>low</th>\n",
       "      <th>close</th>\n",
       "      <th>volume</th>\n",
       "      <th>daily_return</th>\n",
       "      <th>open</th>\n",
       "      <th>high</th>\n",
       "      <th>low</th>\n",
       "      <th>close</th>\n",
       "      <th>volume</th>\n",
       "      <th>daily_return</th>\n",
       "    </tr>\n",
       "    <tr>\n",
       "      <th>time</th>\n",
       "      <th></th>\n",
       "      <th></th>\n",
       "      <th></th>\n",
       "      <th></th>\n",
       "      <th></th>\n",
       "      <th></th>\n",
       "      <th></th>\n",
       "      <th></th>\n",
       "      <th></th>\n",
       "      <th></th>\n",
       "      <th></th>\n",
       "      <th></th>\n",
       "    </tr>\n",
       "  </thead>\n",
       "  <tbody>\n",
       "    <tr>\n",
       "      <th>2019-01-28 00:00:00-05:00</th>\n",
       "      <td>106.62</td>\n",
       "      <td>106.745</td>\n",
       "      <td>106.580</td>\n",
       "      <td>106.6550</td>\n",
       "      <td>6372589</td>\n",
       "      <td>NaN</td>\n",
       "      <td>263.39</td>\n",
       "      <td>263.82</td>\n",
       "      <td>261.79</td>\n",
       "      <td>263.6350</td>\n",
       "      <td>75207990</td>\n",
       "      <td>NaN</td>\n",
       "    </tr>\n",
       "    <tr>\n",
       "      <th>2019-01-29 00:00:00-05:00</th>\n",
       "      <td>106.73</td>\n",
       "      <td>106.910</td>\n",
       "      <td>106.685</td>\n",
       "      <td>106.9063</td>\n",
       "      <td>5399892</td>\n",
       "      <td>0.002356</td>\n",
       "      <td>263.92</td>\n",
       "      <td>264.55</td>\n",
       "      <td>262.48</td>\n",
       "      <td>263.3100</td>\n",
       "      <td>54249161</td>\n",
       "      <td>-0.001233</td>\n",
       "    </tr>\n",
       "    <tr>\n",
       "      <th>2019-01-30 00:00:00-05:00</th>\n",
       "      <td>106.79</td>\n",
       "      <td>107.140</td>\n",
       "      <td>106.790</td>\n",
       "      <td>107.1400</td>\n",
       "      <td>4948983</td>\n",
       "      <td>0.002186</td>\n",
       "      <td>265.10</td>\n",
       "      <td>268.52</td>\n",
       "      <td>264.25</td>\n",
       "      <td>267.4625</td>\n",
       "      <td>75091893</td>\n",
       "      <td>0.015770</td>\n",
       "    </tr>\n",
       "    <tr>\n",
       "      <th>2019-01-31 00:00:00-05:00</th>\n",
       "      <td>107.30</td>\n",
       "      <td>107.530</td>\n",
       "      <td>107.290</td>\n",
       "      <td>107.4600</td>\n",
       "      <td>11394113</td>\n",
       "      <td>0.002987</td>\n",
       "      <td>267.51</td>\n",
       "      <td>270.47</td>\n",
       "      <td>267.27</td>\n",
       "      <td>270.2325</td>\n",
       "      <td>73699733</td>\n",
       "      <td>0.010357</td>\n",
       "    </tr>\n",
       "    <tr>\n",
       "      <th>2019-02-01 00:00:00-05:00</th>\n",
       "      <td>107.09</td>\n",
       "      <td>107.150</td>\n",
       "      <td>106.880</td>\n",
       "      <td>106.9600</td>\n",
       "      <td>5325410</td>\n",
       "      <td>-0.004653</td>\n",
       "      <td>270.15</td>\n",
       "      <td>271.20</td>\n",
       "      <td>269.18</td>\n",
       "      <td>270.0700</td>\n",
       "      <td>68194167</td>\n",
       "      <td>-0.000601</td>\n",
       "    </tr>\n",
       "  </tbody>\n",
       "</table>\n",
       "</div>"
      ],
      "text/plain": [
       "                              AGG                                        \\\n",
       "                             open     high      low     close    volume   \n",
       "time                                                                      \n",
       "2019-01-28 00:00:00-05:00  106.62  106.745  106.580  106.6550   6372589   \n",
       "2019-01-29 00:00:00-05:00  106.73  106.910  106.685  106.9063   5399892   \n",
       "2019-01-30 00:00:00-05:00  106.79  107.140  106.790  107.1400   4948983   \n",
       "2019-01-31 00:00:00-05:00  107.30  107.530  107.290  107.4600  11394113   \n",
       "2019-02-01 00:00:00-05:00  107.09  107.150  106.880  106.9600   5325410   \n",
       "\n",
       "                                           SPY                            \\\n",
       "                          daily_return    open    high     low     close   \n",
       "time                                                                       \n",
       "2019-01-28 00:00:00-05:00          NaN  263.39  263.82  261.79  263.6350   \n",
       "2019-01-29 00:00:00-05:00     0.002356  263.92  264.55  262.48  263.3100   \n",
       "2019-01-30 00:00:00-05:00     0.002186  265.10  268.52  264.25  267.4625   \n",
       "2019-01-31 00:00:00-05:00     0.002987  267.51  270.47  267.27  270.2325   \n",
       "2019-02-01 00:00:00-05:00    -0.004653  270.15  271.20  269.18  270.0700   \n",
       "\n",
       "                                                  \n",
       "                             volume daily_return  \n",
       "time                                              \n",
       "2019-01-28 00:00:00-05:00  75207990          NaN  \n",
       "2019-01-29 00:00:00-05:00  54249161    -0.001233  \n",
       "2019-01-30 00:00:00-05:00  75091893     0.015770  \n",
       "2019-01-31 00:00:00-05:00  73699733     0.010357  \n",
       "2019-02-01 00:00:00-05:00  68194167    -0.000601  "
      ]
     },
     "execution_count": 136,
     "metadata": {},
     "output_type": "execute_result"
    }
   ],
   "source": [
    "# Configurating a Monte Carlo simulation to forecast 10 years cumulative returns\n",
    "# The weights are split 20% to AGG and 80% to SPY.\n",
    "ten_year_forecast = MCSimulation(\n",
    "  portfolio_data = historical_closing_prices_df,\n",
    "  weights = [.20,.80],\n",
    "  num_simulation = 500,\n",
    "  num_trading_days = 252*10\n",
    ")\n",
    "\n",
    "# Reviewing the simulation input data\n",
    "ten_year_forecast.portfolio_data.head()"
   ]
  },
  {
   "cell_type": "code",
   "execution_count": 137,
   "metadata": {},
   "outputs": [
    {
     "name": "stdout",
     "output_type": "stream",
     "text": [
      "Running Monte Carlo simulation number 0.\n",
      "Running Monte Carlo simulation number 10.\n",
      "Running Monte Carlo simulation number 20.\n",
      "Running Monte Carlo simulation number 30.\n",
      "Running Monte Carlo simulation number 40.\n",
      "Running Monte Carlo simulation number 50.\n",
      "Running Monte Carlo simulation number 60.\n",
      "Running Monte Carlo simulation number 70.\n",
      "Running Monte Carlo simulation number 80.\n",
      "Running Monte Carlo simulation number 90.\n",
      "Running Monte Carlo simulation number 100.\n"
     ]
    },
    {
     "name": "stderr",
     "output_type": "stream",
     "text": [
      "C:\\Users\\Magda\\Desktop\\FinTech-Workspace\\Week_5\\financial_planning_tools\\MCForecastTools.py:117: PerformanceWarning: DataFrame is highly fragmented.  This is usually the result of calling `frame.insert` many times, which has poor performance.  Consider joining all columns at once using pd.concat(axis=1) instead.  To get a de-fragmented frame, use `newframe = frame.copy()`\n",
      "  portfolio_cumulative_returns[n] = (1 + sim_df.fillna(0)).cumprod()\n"
     ]
    },
    {
     "name": "stdout",
     "output_type": "stream",
     "text": [
      "Running Monte Carlo simulation number 110.\n",
      "Running Monte Carlo simulation number 120.\n",
      "Running Monte Carlo simulation number 130.\n",
      "Running Monte Carlo simulation number 140.\n",
      "Running Monte Carlo simulation number 150.\n",
      "Running Monte Carlo simulation number 160.\n",
      "Running Monte Carlo simulation number 170.\n",
      "Running Monte Carlo simulation number 180.\n",
      "Running Monte Carlo simulation number 190.\n",
      "Running Monte Carlo simulation number 200.\n",
      "Running Monte Carlo simulation number 210.\n",
      "Running Monte Carlo simulation number 220.\n",
      "Running Monte Carlo simulation number 230.\n",
      "Running Monte Carlo simulation number 240.\n",
      "Running Monte Carlo simulation number 250.\n",
      "Running Monte Carlo simulation number 260.\n",
      "Running Monte Carlo simulation number 270.\n",
      "Running Monte Carlo simulation number 280.\n",
      "Running Monte Carlo simulation number 290.\n",
      "Running Monte Carlo simulation number 300.\n",
      "Running Monte Carlo simulation number 310.\n",
      "Running Monte Carlo simulation number 320.\n",
      "Running Monte Carlo simulation number 330.\n",
      "Running Monte Carlo simulation number 340.\n",
      "Running Monte Carlo simulation number 350.\n",
      "Running Monte Carlo simulation number 360.\n",
      "Running Monte Carlo simulation number 370.\n",
      "Running Monte Carlo simulation number 380.\n",
      "Running Monte Carlo simulation number 390.\n",
      "Running Monte Carlo simulation number 400.\n",
      "Running Monte Carlo simulation number 410.\n",
      "Running Monte Carlo simulation number 420.\n",
      "Running Monte Carlo simulation number 430.\n",
      "Running Monte Carlo simulation number 440.\n",
      "Running Monte Carlo simulation number 450.\n",
      "Running Monte Carlo simulation number 460.\n",
      "Running Monte Carlo simulation number 470.\n",
      "Running Monte Carlo simulation number 480.\n",
      "Running Monte Carlo simulation number 490.\n"
     ]
    },
    {
     "data": {
      "text/html": [
       "<div>\n",
       "<style scoped>\n",
       "    .dataframe tbody tr th:only-of-type {\n",
       "        vertical-align: middle;\n",
       "    }\n",
       "\n",
       "    .dataframe tbody tr th {\n",
       "        vertical-align: top;\n",
       "    }\n",
       "\n",
       "    .dataframe thead th {\n",
       "        text-align: right;\n",
       "    }\n",
       "</style>\n",
       "<table border=\"1\" class=\"dataframe\">\n",
       "  <thead>\n",
       "    <tr style=\"text-align: right;\">\n",
       "      <th></th>\n",
       "      <th>0</th>\n",
       "      <th>1</th>\n",
       "      <th>2</th>\n",
       "      <th>3</th>\n",
       "      <th>4</th>\n",
       "      <th>5</th>\n",
       "      <th>6</th>\n",
       "      <th>7</th>\n",
       "      <th>8</th>\n",
       "      <th>9</th>\n",
       "      <th>...</th>\n",
       "      <th>490</th>\n",
       "      <th>491</th>\n",
       "      <th>492</th>\n",
       "      <th>493</th>\n",
       "      <th>494</th>\n",
       "      <th>495</th>\n",
       "      <th>496</th>\n",
       "      <th>497</th>\n",
       "      <th>498</th>\n",
       "      <th>499</th>\n",
       "    </tr>\n",
       "  </thead>\n",
       "  <tbody>\n",
       "    <tr>\n",
       "      <th>0</th>\n",
       "      <td>1.000000</td>\n",
       "      <td>1.000000</td>\n",
       "      <td>1.000000</td>\n",
       "      <td>1.000000</td>\n",
       "      <td>1.000000</td>\n",
       "      <td>1.000000</td>\n",
       "      <td>1.000000</td>\n",
       "      <td>1.000000</td>\n",
       "      <td>1.000000</td>\n",
       "      <td>1.000000</td>\n",
       "      <td>...</td>\n",
       "      <td>1.000000</td>\n",
       "      <td>1.000000</td>\n",
       "      <td>1.000000</td>\n",
       "      <td>1.000000</td>\n",
       "      <td>1.000000</td>\n",
       "      <td>1.000000</td>\n",
       "      <td>1.000000</td>\n",
       "      <td>1.000000</td>\n",
       "      <td>1.000000</td>\n",
       "      <td>1.000000</td>\n",
       "    </tr>\n",
       "    <tr>\n",
       "      <th>1</th>\n",
       "      <td>0.993006</td>\n",
       "      <td>1.006844</td>\n",
       "      <td>0.991001</td>\n",
       "      <td>0.998841</td>\n",
       "      <td>0.999518</td>\n",
       "      <td>1.002278</td>\n",
       "      <td>1.022906</td>\n",
       "      <td>1.004609</td>\n",
       "      <td>1.007463</td>\n",
       "      <td>1.011814</td>\n",
       "      <td>...</td>\n",
       "      <td>1.009828</td>\n",
       "      <td>1.003307</td>\n",
       "      <td>1.007158</td>\n",
       "      <td>1.015348</td>\n",
       "      <td>1.013289</td>\n",
       "      <td>1.011648</td>\n",
       "      <td>0.974978</td>\n",
       "      <td>1.005374</td>\n",
       "      <td>0.999370</td>\n",
       "      <td>1.011603</td>\n",
       "    </tr>\n",
       "    <tr>\n",
       "      <th>2</th>\n",
       "      <td>0.982467</td>\n",
       "      <td>1.004482</td>\n",
       "      <td>0.982582</td>\n",
       "      <td>1.005723</td>\n",
       "      <td>0.997003</td>\n",
       "      <td>1.025349</td>\n",
       "      <td>1.053077</td>\n",
       "      <td>1.028277</td>\n",
       "      <td>0.997665</td>\n",
       "      <td>1.020432</td>\n",
       "      <td>...</td>\n",
       "      <td>1.033231</td>\n",
       "      <td>0.999151</td>\n",
       "      <td>1.022360</td>\n",
       "      <td>1.029421</td>\n",
       "      <td>1.027967</td>\n",
       "      <td>1.011584</td>\n",
       "      <td>0.989263</td>\n",
       "      <td>1.018707</td>\n",
       "      <td>0.981902</td>\n",
       "      <td>1.010538</td>\n",
       "    </tr>\n",
       "    <tr>\n",
       "      <th>3</th>\n",
       "      <td>0.975850</td>\n",
       "      <td>1.019755</td>\n",
       "      <td>0.984827</td>\n",
       "      <td>1.021561</td>\n",
       "      <td>0.977950</td>\n",
       "      <td>1.022227</td>\n",
       "      <td>1.066971</td>\n",
       "      <td>1.017328</td>\n",
       "      <td>1.006325</td>\n",
       "      <td>1.034254</td>\n",
       "      <td>...</td>\n",
       "      <td>1.016121</td>\n",
       "      <td>0.996286</td>\n",
       "      <td>1.025856</td>\n",
       "      <td>1.020713</td>\n",
       "      <td>1.024706</td>\n",
       "      <td>1.014704</td>\n",
       "      <td>0.999183</td>\n",
       "      <td>1.016570</td>\n",
       "      <td>0.997049</td>\n",
       "      <td>1.006630</td>\n",
       "    </tr>\n",
       "    <tr>\n",
       "      <th>4</th>\n",
       "      <td>0.977910</td>\n",
       "      <td>1.020667</td>\n",
       "      <td>1.003772</td>\n",
       "      <td>1.032894</td>\n",
       "      <td>0.990047</td>\n",
       "      <td>1.033529</td>\n",
       "      <td>1.077857</td>\n",
       "      <td>1.023593</td>\n",
       "      <td>1.009661</td>\n",
       "      <td>1.046901</td>\n",
       "      <td>...</td>\n",
       "      <td>1.016374</td>\n",
       "      <td>0.989436</td>\n",
       "      <td>1.013969</td>\n",
       "      <td>1.020572</td>\n",
       "      <td>1.032236</td>\n",
       "      <td>1.030718</td>\n",
       "      <td>0.978297</td>\n",
       "      <td>1.014093</td>\n",
       "      <td>0.993988</td>\n",
       "      <td>1.000717</td>\n",
       "    </tr>\n",
       "    <tr>\n",
       "      <th>...</th>\n",
       "      <td>...</td>\n",
       "      <td>...</td>\n",
       "      <td>...</td>\n",
       "      <td>...</td>\n",
       "      <td>...</td>\n",
       "      <td>...</td>\n",
       "      <td>...</td>\n",
       "      <td>...</td>\n",
       "      <td>...</td>\n",
       "      <td>...</td>\n",
       "      <td>...</td>\n",
       "      <td>...</td>\n",
       "      <td>...</td>\n",
       "      <td>...</td>\n",
       "      <td>...</td>\n",
       "      <td>...</td>\n",
       "      <td>...</td>\n",
       "      <td>...</td>\n",
       "      <td>...</td>\n",
       "      <td>...</td>\n",
       "      <td>...</td>\n",
       "    </tr>\n",
       "    <tr>\n",
       "      <th>2516</th>\n",
       "      <td>5.350859</td>\n",
       "      <td>9.688227</td>\n",
       "      <td>6.784950</td>\n",
       "      <td>1.400283</td>\n",
       "      <td>2.191222</td>\n",
       "      <td>5.799143</td>\n",
       "      <td>5.456043</td>\n",
       "      <td>6.113405</td>\n",
       "      <td>7.209566</td>\n",
       "      <td>2.329624</td>\n",
       "      <td>...</td>\n",
       "      <td>3.309548</td>\n",
       "      <td>9.343792</td>\n",
       "      <td>8.166853</td>\n",
       "      <td>7.525676</td>\n",
       "      <td>5.859434</td>\n",
       "      <td>2.571489</td>\n",
       "      <td>6.069905</td>\n",
       "      <td>4.375072</td>\n",
       "      <td>2.169314</td>\n",
       "      <td>5.101363</td>\n",
       "    </tr>\n",
       "    <tr>\n",
       "      <th>2517</th>\n",
       "      <td>5.390425</td>\n",
       "      <td>9.441263</td>\n",
       "      <td>6.745638</td>\n",
       "      <td>1.412540</td>\n",
       "      <td>2.179103</td>\n",
       "      <td>5.717289</td>\n",
       "      <td>5.463478</td>\n",
       "      <td>6.128437</td>\n",
       "      <td>7.183285</td>\n",
       "      <td>2.332673</td>\n",
       "      <td>...</td>\n",
       "      <td>3.329004</td>\n",
       "      <td>9.199330</td>\n",
       "      <td>8.251355</td>\n",
       "      <td>7.465463</td>\n",
       "      <td>5.803857</td>\n",
       "      <td>2.523494</td>\n",
       "      <td>6.032592</td>\n",
       "      <td>4.370841</td>\n",
       "      <td>2.152347</td>\n",
       "      <td>5.176750</td>\n",
       "    </tr>\n",
       "    <tr>\n",
       "      <th>2518</th>\n",
       "      <td>5.366609</td>\n",
       "      <td>9.576771</td>\n",
       "      <td>6.814859</td>\n",
       "      <td>1.409407</td>\n",
       "      <td>2.204324</td>\n",
       "      <td>5.773298</td>\n",
       "      <td>5.433978</td>\n",
       "      <td>6.009188</td>\n",
       "      <td>7.280745</td>\n",
       "      <td>2.356635</td>\n",
       "      <td>...</td>\n",
       "      <td>3.271371</td>\n",
       "      <td>9.217688</td>\n",
       "      <td>8.328367</td>\n",
       "      <td>7.507201</td>\n",
       "      <td>5.781366</td>\n",
       "      <td>2.518580</td>\n",
       "      <td>5.983670</td>\n",
       "      <td>4.374892</td>\n",
       "      <td>2.142315</td>\n",
       "      <td>5.080154</td>\n",
       "    </tr>\n",
       "    <tr>\n",
       "      <th>2519</th>\n",
       "      <td>5.296616</td>\n",
       "      <td>9.571670</td>\n",
       "      <td>6.894385</td>\n",
       "      <td>1.451496</td>\n",
       "      <td>2.190441</td>\n",
       "      <td>5.784850</td>\n",
       "      <td>5.295566</td>\n",
       "      <td>6.072120</td>\n",
       "      <td>7.260490</td>\n",
       "      <td>2.376939</td>\n",
       "      <td>...</td>\n",
       "      <td>3.284791</td>\n",
       "      <td>9.239717</td>\n",
       "      <td>8.254673</td>\n",
       "      <td>7.336759</td>\n",
       "      <td>5.847124</td>\n",
       "      <td>2.513071</td>\n",
       "      <td>6.057991</td>\n",
       "      <td>4.367269</td>\n",
       "      <td>2.129658</td>\n",
       "      <td>5.163452</td>\n",
       "    </tr>\n",
       "    <tr>\n",
       "      <th>2520</th>\n",
       "      <td>5.378451</td>\n",
       "      <td>9.745521</td>\n",
       "      <td>7.120557</td>\n",
       "      <td>1.425650</td>\n",
       "      <td>2.224254</td>\n",
       "      <td>5.860477</td>\n",
       "      <td>5.376399</td>\n",
       "      <td>6.104543</td>\n",
       "      <td>7.206401</td>\n",
       "      <td>2.386482</td>\n",
       "      <td>...</td>\n",
       "      <td>3.246665</td>\n",
       "      <td>9.139647</td>\n",
       "      <td>8.272144</td>\n",
       "      <td>7.475737</td>\n",
       "      <td>5.831743</td>\n",
       "      <td>2.536189</td>\n",
       "      <td>6.086808</td>\n",
       "      <td>4.362566</td>\n",
       "      <td>2.139864</td>\n",
       "      <td>5.165861</td>\n",
       "    </tr>\n",
       "  </tbody>\n",
       "</table>\n",
       "<p>2521 rows × 500 columns</p>\n",
       "</div>"
      ],
      "text/plain": [
       "           0         1         2         3         4         5         6    \\\n",
       "0     1.000000  1.000000  1.000000  1.000000  1.000000  1.000000  1.000000   \n",
       "1     0.993006  1.006844  0.991001  0.998841  0.999518  1.002278  1.022906   \n",
       "2     0.982467  1.004482  0.982582  1.005723  0.997003  1.025349  1.053077   \n",
       "3     0.975850  1.019755  0.984827  1.021561  0.977950  1.022227  1.066971   \n",
       "4     0.977910  1.020667  1.003772  1.032894  0.990047  1.033529  1.077857   \n",
       "...        ...       ...       ...       ...       ...       ...       ...   \n",
       "2516  5.350859  9.688227  6.784950  1.400283  2.191222  5.799143  5.456043   \n",
       "2517  5.390425  9.441263  6.745638  1.412540  2.179103  5.717289  5.463478   \n",
       "2518  5.366609  9.576771  6.814859  1.409407  2.204324  5.773298  5.433978   \n",
       "2519  5.296616  9.571670  6.894385  1.451496  2.190441  5.784850  5.295566   \n",
       "2520  5.378451  9.745521  7.120557  1.425650  2.224254  5.860477  5.376399   \n",
       "\n",
       "           7         8         9    ...       490       491       492  \\\n",
       "0     1.000000  1.000000  1.000000  ...  1.000000  1.000000  1.000000   \n",
       "1     1.004609  1.007463  1.011814  ...  1.009828  1.003307  1.007158   \n",
       "2     1.028277  0.997665  1.020432  ...  1.033231  0.999151  1.022360   \n",
       "3     1.017328  1.006325  1.034254  ...  1.016121  0.996286  1.025856   \n",
       "4     1.023593  1.009661  1.046901  ...  1.016374  0.989436  1.013969   \n",
       "...        ...       ...       ...  ...       ...       ...       ...   \n",
       "2516  6.113405  7.209566  2.329624  ...  3.309548  9.343792  8.166853   \n",
       "2517  6.128437  7.183285  2.332673  ...  3.329004  9.199330  8.251355   \n",
       "2518  6.009188  7.280745  2.356635  ...  3.271371  9.217688  8.328367   \n",
       "2519  6.072120  7.260490  2.376939  ...  3.284791  9.239717  8.254673   \n",
       "2520  6.104543  7.206401  2.386482  ...  3.246665  9.139647  8.272144   \n",
       "\n",
       "           493       494       495       496       497       498       499  \n",
       "0     1.000000  1.000000  1.000000  1.000000  1.000000  1.000000  1.000000  \n",
       "1     1.015348  1.013289  1.011648  0.974978  1.005374  0.999370  1.011603  \n",
       "2     1.029421  1.027967  1.011584  0.989263  1.018707  0.981902  1.010538  \n",
       "3     1.020713  1.024706  1.014704  0.999183  1.016570  0.997049  1.006630  \n",
       "4     1.020572  1.032236  1.030718  0.978297  1.014093  0.993988  1.000717  \n",
       "...        ...       ...       ...       ...       ...       ...       ...  \n",
       "2516  7.525676  5.859434  2.571489  6.069905  4.375072  2.169314  5.101363  \n",
       "2517  7.465463  5.803857  2.523494  6.032592  4.370841  2.152347  5.176750  \n",
       "2518  7.507201  5.781366  2.518580  5.983670  4.374892  2.142315  5.080154  \n",
       "2519  7.336759  5.847124  2.513071  6.057991  4.367269  2.129658  5.163452  \n",
       "2520  7.475737  5.831743  2.536189  6.086808  4.362566  2.139864  5.165861  \n",
       "\n",
       "[2521 rows x 500 columns]"
      ]
     },
     "execution_count": 137,
     "metadata": {},
     "output_type": "execute_result"
    }
   ],
   "source": [
    "# Running the Monte Carlo simulation to forecast 10 years cumulative returns\n",
    "ten_year_forecast.calc_cumulative_return()"
   ]
  },
  {
   "cell_type": "code",
   "execution_count": 138,
   "metadata": {},
   "outputs": [
    {
     "data": {
      "text/plain": [
       "<AxesSubplot:title={'center':'500 Simulations of Cumulative Portfolio Return Trajectories Over the Next 2520 Trading Days.'}>"
      ]
     },
     "execution_count": 138,
     "metadata": {},
     "output_type": "execute_result"
    },
    {
     "data": {
      "image/png": "[encoded data removed]",
      "text/plain": [
       "<Figure size 432x288 with 1 Axes>"
      ]
     },
     "metadata": {
      "needs_background": "light"
     },
     "output_type": "display_data"
    }
   ],
   "source": [
    "# Visualizing the 10-year Monte Carlo simulation by creating an overlay line plot\n",
    "ten_year_forecast.plot_simulation()"
   ]
  },
  {
   "cell_type": "code",
   "execution_count": 139,
   "metadata": {},
   "outputs": [
    {
     "data": {
      "text/plain": [
       "<AxesSubplot:title={'center':'Distribution of Final Cumuluative Returns Across All 500 Simulations'}, ylabel='Frequency'>"
      ]
     },
     "execution_count": 139,
     "metadata": {},
     "output_type": "execute_result"
    },
    {
     "data": {
      "image/png": "[encoded data removed]",
      "text/plain": [
       "<Figure size 432x288 with 1 Axes>"
      ]
     },
     "metadata": {
      "needs_background": "light"
     },
     "output_type": "display_data"
    }
   ],
   "source": [
    "# Visualizing the probability distribution of the 10-year Monte Carlo simulation by plotting a histogram\n",
    "ten_year_forecast.plot_distribution()"
   ]
  },
  {
   "cell_type": "code",
   "execution_count": 140,
   "metadata": {},
   "outputs": [
    {
     "data": {
      "text/plain": [
       "count           500.000000\n",
       "mean              4.842428\n",
       "std               2.680634\n",
       "min               0.810231\n",
       "25%               2.915644\n",
       "50%               4.304927\n",
       "75%               5.877598\n",
       "max              16.138734\n",
       "95% CI Lower      1.474773\n",
       "95% CI Upper     11.586610\n",
       "Name: 2520, dtype: float64"
      ]
     },
     "execution_count": 140,
     "metadata": {},
     "output_type": "execute_result"
    }
   ],
   "source": [
    "# Generating summary statistics and saving the results as a variable\n",
    "ten_year_forecast_statistics = ten_year_forecast.summarize_cumulative_return()\n",
    "\n",
    "ten_year_forecast_statistics"
   ]
  },
  {
   "cell_type": "markdown",
   "metadata": {},
   "source": [
    "### Questions to answer:"
   ]
  },
  {
   "cell_type": "markdown",
   "metadata": {},
   "source": [
    "#### Question: Using the current value of only the stock and bond portion of the member's portfolio and the summary statistics generated from the new Monte Carlo simulation, what are the lower and upper bounds for the expected value of the portfolio (with the new weights) with a 95% confidence interval?"
   ]
  },
  {
   "cell_type": "code",
   "execution_count": 141,
   "metadata": {},
   "outputs": [
    {
     "name": "stdout",
     "output_type": "stream",
     "text": [
      "The current balance of the stock and bond porttion of the portfoio is $ 70973.20\n"
     ]
    }
   ],
   "source": [
    "print(f\"The current balance of the stock and bond porttion of the portfoio is ${total_stocks_bonds: .2f}\")"
   ]
  },
  {
   "cell_type": "code",
   "execution_count": 142,
   "metadata": {},
   "outputs": [
    {
     "name": "stdout",
     "output_type": "stream",
     "text": [
      "There is a 95% chance that an initial investment of $132036.083 over the next 10 years will end within in the range of $ 194723.32 and $ 1529850.62\n"
     ]
    }
   ],
   "source": [
    "# Using the lower and upper `95%` confidence intervals to calculate the range of the possible outcomes for the current stock/bond portfolio\n",
    "ci_lower_ten_cumulative_return = ten_year_forecast_statistics[8] * total_portfolio\n",
    "ci_upper_ten_cumulative_return = ten_year_forecast_statistics[9] * total_portfolio\n",
    "\n",
    "print(f\"There is a 95% chance that an initial investment of ${total_portfolio} over the next 10 years will end within in the range of ${ci_lower_ten_cumulative_return: .2f} and ${ci_upper_ten_cumulative_return: .2f}\")"
   ]
  },
  {
   "cell_type": "markdown",
   "metadata": {},
   "source": [
    "#### Question: Will weighting the portfolio more heavily to stocks allow the credit union members to retire after only 10 years?"
   ]
  },
  {
   "cell_type": "markdown",
   "metadata": {},
   "source": [
    "**Answer** Weighting the portfolio more heavily to stocks will not allow the credit union members to retire after 10 years. Firstly, the returns of the more heavily weighted portfolio are lower and secondly, when people save for retirement, they usually tend to be more conservative in their invesments."
   ]
  },
  {
   "cell_type": "code",
   "execution_count": null,
   "metadata": {},
   "outputs": [],
   "source": []
  }
 ],
 "metadata": {
  "kernelspec": {
   "display_name": "Python 3 (ipykernel)",
   "language": "python",
   "name": "python3"
  },
  "language_info": {
   "codemirror_mode": {
    "name": "ipython",
    "version": 3
   },
   "file_extension": ".py",
   "mimetype": "text/x-python",
   "name": "python",
   "nbconvert_exporter": "python",
   "pygments_lexer": "ipython3",
   "version": "3.7.11"
  }
 },
 "nbformat": 4,
 "nbformat_minor": 4
}
